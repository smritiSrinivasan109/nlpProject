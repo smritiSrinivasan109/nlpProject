{
 "cells": [
  {
   "cell_type": "code",
   "execution_count": 104,
   "id": "306e506d",
   "metadata": {},
   "outputs": [
    {
     "name": "stdout",
     "output_type": "stream",
     "text": [
      "Requirement already satisfied: tensorflow in ./.pyenv/versions/3.7.5/lib/python3.7/site-packages (2.5.0)\n",
      "Requirement already satisfied: tensorboard~=2.5 in ./.pyenv/versions/3.7.5/lib/python3.7/site-packages (from tensorflow) (2.5.0)\n",
      "Requirement already satisfied: google-pasta~=0.2 in ./.pyenv/versions/3.7.5/lib/python3.7/site-packages (from tensorflow) (0.2.0)\n",
      "Requirement already satisfied: termcolor~=1.1.0 in ./.pyenv/versions/3.7.5/lib/python3.7/site-packages (from tensorflow) (1.1.0)\n",
      "Requirement already satisfied: flatbuffers~=1.12.0 in ./.pyenv/versions/3.7.5/lib/python3.7/site-packages (from tensorflow) (1.12)\n",
      "Requirement already satisfied: tensorflow-estimator<2.6.0,>=2.5.0rc0 in ./.pyenv/versions/3.7.5/lib/python3.7/site-packages (from tensorflow) (2.5.0)\n",
      "Requirement already satisfied: absl-py~=0.10 in ./.pyenv/versions/3.7.5/lib/python3.7/site-packages (from tensorflow) (0.13.0)\n",
      "Requirement already satisfied: protobuf>=3.9.2 in ./.pyenv/versions/3.7.5/lib/python3.7/site-packages (from tensorflow) (3.17.3)\n",
      "Requirement already satisfied: six~=1.15.0 in ./.pyenv/versions/3.7.5/lib/python3.7/site-packages (from tensorflow) (1.15.0)\n",
      "Requirement already satisfied: wrapt~=1.12.1 in ./.pyenv/versions/3.7.5/lib/python3.7/site-packages (from tensorflow) (1.12.1)\n",
      "Requirement already satisfied: typing-extensions~=3.7.4 in ./.pyenv/versions/3.7.5/lib/python3.7/site-packages (from tensorflow) (3.7.4.3)\n",
      "Requirement already satisfied: grpcio~=1.34.0 in ./.pyenv/versions/3.7.5/lib/python3.7/site-packages (from tensorflow) (1.34.1)\n",
      "Requirement already satisfied: h5py~=3.1.0 in ./.pyenv/versions/3.7.5/lib/python3.7/site-packages (from tensorflow) (3.1.0)\n",
      "Requirement already satisfied: opt-einsum~=3.3.0 in ./.pyenv/versions/3.7.5/lib/python3.7/site-packages (from tensorflow) (3.3.0)\n",
      "Requirement already satisfied: astunparse~=1.6.3 in ./.pyenv/versions/3.7.5/lib/python3.7/site-packages (from tensorflow) (1.6.3)\n",
      "Requirement already satisfied: wheel~=0.35 in ./.pyenv/versions/3.7.5/lib/python3.7/site-packages (from tensorflow) (0.36.2)\n",
      "Requirement already satisfied: keras-preprocessing~=1.1.2 in ./.pyenv/versions/3.7.5/lib/python3.7/site-packages (from tensorflow) (1.1.2)\n",
      "Requirement already satisfied: gast==0.4.0 in ./.pyenv/versions/3.7.5/lib/python3.7/site-packages (from tensorflow) (0.4.0)\n",
      "Requirement already satisfied: keras-nightly~=2.5.0.dev in ./.pyenv/versions/3.7.5/lib/python3.7/site-packages (from tensorflow) (2.5.0.dev2021032900)\n",
      "Requirement already satisfied: numpy~=1.19.2 in ./.pyenv/versions/3.7.5/lib/python3.7/site-packages (from tensorflow) (1.19.5)\n",
      "Requirement already satisfied: cached-property in ./.pyenv/versions/3.7.5/lib/python3.7/site-packages (from h5py~=3.1.0->tensorflow) (1.5.2)\n",
      "Requirement already satisfied: markdown>=2.6.8 in ./.pyenv/versions/3.7.5/lib/python3.7/site-packages (from tensorboard~=2.5->tensorflow) (3.3.4)\n",
      "Requirement already satisfied: werkzeug>=0.11.15 in ./.pyenv/versions/3.7.5/lib/python3.7/site-packages (from tensorboard~=2.5->tensorflow) (2.0.1)\n",
      "Requirement already satisfied: google-auth<2,>=1.6.3 in ./.pyenv/versions/3.7.5/lib/python3.7/site-packages (from tensorboard~=2.5->tensorflow) (1.33.1)\n",
      "Requirement already satisfied: google-auth-oauthlib<0.5,>=0.4.1 in ./.pyenv/versions/3.7.5/lib/python3.7/site-packages (from tensorboard~=2.5->tensorflow) (0.4.4)\n",
      "Requirement already satisfied: tensorboard-plugin-wit>=1.6.0 in ./.pyenv/versions/3.7.5/lib/python3.7/site-packages (from tensorboard~=2.5->tensorflow) (1.8.0)\n",
      "Requirement already satisfied: requests<3,>=2.21.0 in ./.pyenv/versions/3.7.5/lib/python3.7/site-packages (from tensorboard~=2.5->tensorflow) (2.26.0)\n",
      "Requirement already satisfied: tensorboard-data-server<0.7.0,>=0.6.0 in ./.pyenv/versions/3.7.5/lib/python3.7/site-packages (from tensorboard~=2.5->tensorflow) (0.6.1)\n",
      "Requirement already satisfied: setuptools>=41.0.0 in ./.pyenv/versions/3.7.5/lib/python3.7/site-packages (from tensorboard~=2.5->tensorflow) (57.4.0)\n",
      "Requirement already satisfied: pyasn1-modules>=0.2.1 in ./.pyenv/versions/3.7.5/lib/python3.7/site-packages (from google-auth<2,>=1.6.3->tensorboard~=2.5->tensorflow) (0.2.8)\n",
      "Requirement already satisfied: cachetools<5.0,>=2.0.0 in ./.pyenv/versions/3.7.5/lib/python3.7/site-packages (from google-auth<2,>=1.6.3->tensorboard~=2.5->tensorflow) (4.2.2)\n",
      "Requirement already satisfied: rsa<5,>=3.1.4 in ./.pyenv/versions/3.7.5/lib/python3.7/site-packages (from google-auth<2,>=1.6.3->tensorboard~=2.5->tensorflow) (4.7.2)\n",
      "Requirement already satisfied: requests-oauthlib>=0.7.0 in ./.pyenv/versions/3.7.5/lib/python3.7/site-packages (from google-auth-oauthlib<0.5,>=0.4.1->tensorboard~=2.5->tensorflow) (1.3.0)\n",
      "Requirement already satisfied: importlib-metadata in ./.pyenv/versions/3.7.5/lib/python3.7/site-packages (from markdown>=2.6.8->tensorboard~=2.5->tensorflow) (3.10.1)\n",
      "Requirement already satisfied: pyasn1<0.5.0,>=0.4.6 in ./.pyenv/versions/3.7.5/lib/python3.7/site-packages (from pyasn1-modules>=0.2.1->google-auth<2,>=1.6.3->tensorboard~=2.5->tensorflow) (0.4.8)\n",
      "Requirement already satisfied: charset-normalizer~=2.0.0 in ./.pyenv/versions/3.7.5/lib/python3.7/site-packages (from requests<3,>=2.21.0->tensorboard~=2.5->tensorflow) (2.0.3)\n",
      "Requirement already satisfied: certifi>=2017.4.17 in ./.pyenv/versions/3.7.5/lib/python3.7/site-packages (from requests<3,>=2.21.0->tensorboard~=2.5->tensorflow) (2021.5.30)\n",
      "Requirement already satisfied: urllib3<1.27,>=1.21.1 in ./.pyenv/versions/3.7.5/lib/python3.7/site-packages (from requests<3,>=2.21.0->tensorboard~=2.5->tensorflow) (1.26.6)\n",
      "Requirement already satisfied: idna<4,>=2.5 in ./.pyenv/versions/3.7.5/lib/python3.7/site-packages (from requests<3,>=2.21.0->tensorboard~=2.5->tensorflow) (3.2)\n",
      "Requirement already satisfied: oauthlib>=3.0.0 in ./.pyenv/versions/3.7.5/lib/python3.7/site-packages (from requests-oauthlib>=0.7.0->google-auth-oauthlib<0.5,>=0.4.1->tensorboard~=2.5->tensorflow) (3.1.1)\n",
      "Requirement already satisfied: zipp>=0.5 in ./.pyenv/versions/3.7.5/lib/python3.7/site-packages (from importlib-metadata->markdown>=2.6.8->tensorboard~=2.5->tensorflow) (3.5.0)\n"
     ]
    }
   ],
   "source": [
    "#!pip install --upgrade tensorflow-gpu==2.0\n",
    "!pip install tensorflow"
   ]
  },
  {
   "cell_type": "code",
   "execution_count": 91,
   "id": "fb4a88c5",
   "metadata": {},
   "outputs": [
    {
     "name": "stdout",
     "output_type": "stream",
     "text": [
      "Requirement already satisfied: numpy in ./.pyenv/versions/3.7.5/lib/python3.7/site-packages (1.19.5)\r\n"
     ]
    },
    {
     "name": "stderr",
     "output_type": "stream",
     "text": [
      "[nltk_data] Downloading package punkt to /Users/65172/nltk_data...\n",
      "[nltk_data]   Package punkt is already up-to-date!\n"
     ]
    }
   ],
   "source": [
    "#!pip install plotly\n",
    "#!pip install --upgrade nbformat\n",
    "#!pip install nltk\n",
    "#!pip install spacy\n",
    "#!pip install WordCloud\n",
    "#!pip install gensim\n",
    "#!pip install seaborn\n",
    "#!pip install matplotlib\n",
    "#!pip install jupyterthemes\n",
    "!pip install numpy\n",
    "from numpy import loadtxt\n",
    "import numpy as np\n",
    "import nltk\n",
    "nltk.download('punkt')\n",
    "\n",
    "import tensorflow as tf\n",
    "import pandas as pd\n",
    "import matplotlib.pyplot as plt\n",
    "import seaborn as sns\n",
    "from sklearn import preprocessing\n",
    "from wordcloud import WordCloud, STOPWORDS\n",
    "import nltk\n",
    "import re\n",
    "from nltk.stem import PorterStemmer, WordNetLemmatizer\n",
    "from nltk.corpus import stopwords\n",
    "from nltk.tokenize import word_tokenize, sent_tokenize\n",
    "import gensim\n",
    "from gensim.utils import simple_preprocess\n",
    "from gensim.parsing.preprocessing import STOPWORDS\n",
    "# import keras\n",
    "from tensorflow.keras.preprocessing.text import one_hot, Tokenizer\n",
    "from tensorflow.keras.preprocessing.sequence import pad_sequences\n",
    "from tensorflow.keras.models import Sequential\n",
    "from tensorflow.keras.layers import Dense, Flatten, Embedding, Input, LSTM, Conv1D, MaxPool1D, Bidirectional, Dropout\n",
    "from tensorflow.keras.models import Model\n",
    "from jupyterthemes import jtplot\n",
    "jtplot.style(theme='monokai', context='notebook', ticks=True, grid=False)"
   ]
  },
  {
   "cell_type": "code",
   "execution_count": 182,
   "id": "b185ab17",
   "metadata": {},
   "outputs": [
    {
     "data": {
      "text/plain": [
       "(20800, 5)"
      ]
     },
     "execution_count": 182,
     "metadata": {},
     "output_type": "execute_result"
    }
   ],
   "source": [
    "# load the dataset\n",
    "dataset_train=pd.read_csv(\"train.csv\")\n",
    "dataset_test=pd.read_csv(\"test.csv\")\n",
    "\n",
    "dataset_train.shape "
   ]
  },
  {
   "cell_type": "code",
   "execution_count": 183,
   "id": "9639b70f",
   "metadata": {},
   "outputs": [
    {
     "name": "stdout",
     "output_type": "stream",
     "text": [
      "   id                                              title  \\\n",
      "0   0  House Dem Aide: We Didn’t Even See Comey’s Let...   \n",
      "1   1  FLYNN: Hillary Clinton, Big Woman on Campus - ...   \n",
      "2   2                  Why the Truth Might Get You Fired   \n",
      "3   3  15 Civilians Killed In Single US Airstrike Hav...   \n",
      "4   4  Iranian woman jailed for fictional unpublished...   \n",
      "5   5  Jackie Mason: Hollywood Would Love Trump if He...   \n",
      "6   6  Life: Life Of Luxury: Elton John’s 6 Favorite ...   \n",
      "7   7  Benoît Hamon Wins French Socialist Party’s Pre...   \n",
      "8   8  Excerpts From a Draft Script for Donald Trump’...   \n",
      "9   9  A Back-Channel Plan for Ukraine and Russia, Co...   \n",
      "\n",
      "                         author  \\\n",
      "0                 Darrell Lucus   \n",
      "1               Daniel J. Flynn   \n",
      "2            Consortiumnews.com   \n",
      "3               Jessica Purkiss   \n",
      "4                Howard Portnoy   \n",
      "5               Daniel Nussbaum   \n",
      "6                           NaN   \n",
      "7               Alissa J. Rubin   \n",
      "8                           NaN   \n",
      "9  Megan Twohey and Scott Shane   \n",
      "\n",
      "                                                text  label  \n",
      "0  House Dem Aide: We Didn’t Even See Comey’s Let...      1  \n",
      "1  Ever get the feeling your life circles the rou...      0  \n",
      "2  Why the Truth Might Get You Fired October 29, ...      1  \n",
      "3  Videos 15 Civilians Killed In Single US Airstr...      1  \n",
      "4  Print \\nAn Iranian woman has been sentenced to...      1  \n",
      "5  In these trying times, Jackie Mason is the Voi...      0  \n",
      "6  Ever wonder how Britain’s most iconic pop pian...      1  \n",
      "7  PARIS  —   France chose an idealistic, traditi...      0  \n",
      "8  Donald J. Trump is scheduled to make a highly ...      0  \n",
      "9  A week before Michael T. Flynn resigned as nat...      0  \n",
      "   id  title  author   text  label\n",
      "0   0   7609     940   8021      1\n",
      "1   1   5854     908   6297      0\n",
      "2   2  18702     826  19125      1\n",
      "3   3    145    1776  17464      1\n",
      "4   4   8529    1498  13019      1\n"
     ]
    }
   ],
   "source": [
    "le = preprocessing.LabelEncoder() # once\n",
    "encoded_dataset_train = dataset_train.apply(le.fit_transform)\n",
    "encoded_dataset_test= dataset_test.apply(le.fit_transform)\n",
    "\n",
    "print(dataset_train.head(10))\n",
    "print(encoded_dataset_train.head())"
   ]
  },
  {
   "cell_type": "code",
   "execution_count": 185,
   "id": "3137873b",
   "metadata": {},
   "outputs": [
    {
     "name": "stdout",
     "output_type": "stream",
     "text": [
      "(20800, 2)\n"
     ]
    },
    {
     "ename": "IndexError",
     "evalue": "single positional indexer is out-of-bounds",
     "output_type": "error",
     "traceback": [
      "\u001b[0;31m---------------------------------------------------------------------------\u001b[0m",
      "\u001b[0;31mIndexError\u001b[0m                                Traceback (most recent call last)",
      "\u001b[0;32m/var/folders/74/pbg99trj5pzbpzx9hzcgsxrmwksdx5/T/ipykernel_92018/4132536.py\u001b[0m in \u001b[0;36m<module>\u001b[0;34m\u001b[0m\n\u001b[1;32m      6\u001b[0m \u001b[0;34m\u001b[0m\u001b[0m\n\u001b[1;32m      7\u001b[0m \u001b[0mX_test\u001b[0m \u001b[0;34m=\u001b[0m \u001b[0mencoded_dataset_test\u001b[0m\u001b[0;34m.\u001b[0m\u001b[0miloc\u001b[0m\u001b[0;34m[\u001b[0m\u001b[0;34m:\u001b[0m\u001b[0;34m,\u001b[0m\u001b[0;36m0\u001b[0m\u001b[0;34m:\u001b[0m\u001b[0;36m4\u001b[0m\u001b[0;34m]\u001b[0m\u001b[0;34m\u001b[0m\u001b[0;34m\u001b[0m\u001b[0m\n\u001b[0;32m----> 8\u001b[0;31m \u001b[0my_test\u001b[0m \u001b[0;34m=\u001b[0m \u001b[0mencoded_dataset_test\u001b[0m\u001b[0;34m.\u001b[0m\u001b[0miloc\u001b[0m\u001b[0;34m[\u001b[0m\u001b[0;34m:\u001b[0m\u001b[0;34m,\u001b[0m\u001b[0;36m4\u001b[0m\u001b[0;34m]\u001b[0m\u001b[0;34m\u001b[0m\u001b[0;34m\u001b[0m\u001b[0m\n\u001b[0m",
      "\u001b[0;32m~/.local/lib/python3.7/site-packages/pandas/core/indexing.py\u001b[0m in \u001b[0;36m__getitem__\u001b[0;34m(self, key)\u001b[0m\n\u001b[1;32m    923\u001b[0m                 \u001b[0;32mwith\u001b[0m \u001b[0msuppress\u001b[0m\u001b[0;34m(\u001b[0m\u001b[0mKeyError\u001b[0m\u001b[0;34m,\u001b[0m \u001b[0mIndexError\u001b[0m\u001b[0;34m)\u001b[0m\u001b[0;34m:\u001b[0m\u001b[0;34m\u001b[0m\u001b[0;34m\u001b[0m\u001b[0m\n\u001b[1;32m    924\u001b[0m                     \u001b[0;32mreturn\u001b[0m \u001b[0mself\u001b[0m\u001b[0;34m.\u001b[0m\u001b[0mobj\u001b[0m\u001b[0;34m.\u001b[0m\u001b[0m_get_value\u001b[0m\u001b[0;34m(\u001b[0m\u001b[0;34m*\u001b[0m\u001b[0mkey\u001b[0m\u001b[0;34m,\u001b[0m \u001b[0mtakeable\u001b[0m\u001b[0;34m=\u001b[0m\u001b[0mself\u001b[0m\u001b[0;34m.\u001b[0m\u001b[0m_takeable\u001b[0m\u001b[0;34m)\u001b[0m\u001b[0;34m\u001b[0m\u001b[0;34m\u001b[0m\u001b[0m\n\u001b[0;32m--> 925\u001b[0;31m             \u001b[0;32mreturn\u001b[0m \u001b[0mself\u001b[0m\u001b[0;34m.\u001b[0m\u001b[0m_getitem_tuple\u001b[0m\u001b[0;34m(\u001b[0m\u001b[0mkey\u001b[0m\u001b[0;34m)\u001b[0m\u001b[0;34m\u001b[0m\u001b[0;34m\u001b[0m\u001b[0m\n\u001b[0m\u001b[1;32m    926\u001b[0m         \u001b[0;32melse\u001b[0m\u001b[0;34m:\u001b[0m\u001b[0;34m\u001b[0m\u001b[0;34m\u001b[0m\u001b[0m\n\u001b[1;32m    927\u001b[0m             \u001b[0;31m# we by definition only have the 0th axis\u001b[0m\u001b[0;34m\u001b[0m\u001b[0;34m\u001b[0m\u001b[0;34m\u001b[0m\u001b[0m\n",
      "\u001b[0;32m~/.local/lib/python3.7/site-packages/pandas/core/indexing.py\u001b[0m in \u001b[0;36m_getitem_tuple\u001b[0;34m(self, tup)\u001b[0m\n\u001b[1;32m   1504\u001b[0m     \u001b[0;32mdef\u001b[0m \u001b[0m_getitem_tuple\u001b[0m\u001b[0;34m(\u001b[0m\u001b[0mself\u001b[0m\u001b[0;34m,\u001b[0m \u001b[0mtup\u001b[0m\u001b[0;34m:\u001b[0m \u001b[0mtuple\u001b[0m\u001b[0;34m)\u001b[0m\u001b[0;34m:\u001b[0m\u001b[0;34m\u001b[0m\u001b[0;34m\u001b[0m\u001b[0m\n\u001b[1;32m   1505\u001b[0m \u001b[0;34m\u001b[0m\u001b[0m\n\u001b[0;32m-> 1506\u001b[0;31m         \u001b[0mself\u001b[0m\u001b[0;34m.\u001b[0m\u001b[0m_has_valid_tuple\u001b[0m\u001b[0;34m(\u001b[0m\u001b[0mtup\u001b[0m\u001b[0;34m)\u001b[0m\u001b[0;34m\u001b[0m\u001b[0;34m\u001b[0m\u001b[0m\n\u001b[0m\u001b[1;32m   1507\u001b[0m         \u001b[0;32mwith\u001b[0m \u001b[0msuppress\u001b[0m\u001b[0;34m(\u001b[0m\u001b[0mIndexingError\u001b[0m\u001b[0;34m)\u001b[0m\u001b[0;34m:\u001b[0m\u001b[0;34m\u001b[0m\u001b[0;34m\u001b[0m\u001b[0m\n\u001b[1;32m   1508\u001b[0m             \u001b[0;32mreturn\u001b[0m \u001b[0mself\u001b[0m\u001b[0;34m.\u001b[0m\u001b[0m_getitem_lowerdim\u001b[0m\u001b[0;34m(\u001b[0m\u001b[0mtup\u001b[0m\u001b[0;34m)\u001b[0m\u001b[0;34m\u001b[0m\u001b[0;34m\u001b[0m\u001b[0m\n",
      "\u001b[0;32m~/.local/lib/python3.7/site-packages/pandas/core/indexing.py\u001b[0m in \u001b[0;36m_has_valid_tuple\u001b[0;34m(self, key)\u001b[0m\n\u001b[1;32m    752\u001b[0m         \u001b[0;32mfor\u001b[0m \u001b[0mi\u001b[0m\u001b[0;34m,\u001b[0m \u001b[0mk\u001b[0m \u001b[0;32min\u001b[0m \u001b[0menumerate\u001b[0m\u001b[0;34m(\u001b[0m\u001b[0mkey\u001b[0m\u001b[0;34m)\u001b[0m\u001b[0;34m:\u001b[0m\u001b[0;34m\u001b[0m\u001b[0;34m\u001b[0m\u001b[0m\n\u001b[1;32m    753\u001b[0m             \u001b[0;32mtry\u001b[0m\u001b[0;34m:\u001b[0m\u001b[0;34m\u001b[0m\u001b[0;34m\u001b[0m\u001b[0m\n\u001b[0;32m--> 754\u001b[0;31m                 \u001b[0mself\u001b[0m\u001b[0;34m.\u001b[0m\u001b[0m_validate_key\u001b[0m\u001b[0;34m(\u001b[0m\u001b[0mk\u001b[0m\u001b[0;34m,\u001b[0m \u001b[0mi\u001b[0m\u001b[0;34m)\u001b[0m\u001b[0;34m\u001b[0m\u001b[0;34m\u001b[0m\u001b[0m\n\u001b[0m\u001b[1;32m    755\u001b[0m             \u001b[0;32mexcept\u001b[0m \u001b[0mValueError\u001b[0m \u001b[0;32mas\u001b[0m \u001b[0merr\u001b[0m\u001b[0;34m:\u001b[0m\u001b[0;34m\u001b[0m\u001b[0;34m\u001b[0m\u001b[0m\n\u001b[1;32m    756\u001b[0m                 raise ValueError(\n",
      "\u001b[0;32m~/.local/lib/python3.7/site-packages/pandas/core/indexing.py\u001b[0m in \u001b[0;36m_validate_key\u001b[0;34m(self, key, axis)\u001b[0m\n\u001b[1;32m   1407\u001b[0m             \u001b[0;32mreturn\u001b[0m\u001b[0;34m\u001b[0m\u001b[0;34m\u001b[0m\u001b[0m\n\u001b[1;32m   1408\u001b[0m         \u001b[0;32melif\u001b[0m \u001b[0mis_integer\u001b[0m\u001b[0;34m(\u001b[0m\u001b[0mkey\u001b[0m\u001b[0;34m)\u001b[0m\u001b[0;34m:\u001b[0m\u001b[0;34m\u001b[0m\u001b[0;34m\u001b[0m\u001b[0m\n\u001b[0;32m-> 1409\u001b[0;31m             \u001b[0mself\u001b[0m\u001b[0;34m.\u001b[0m\u001b[0m_validate_integer\u001b[0m\u001b[0;34m(\u001b[0m\u001b[0mkey\u001b[0m\u001b[0;34m,\u001b[0m \u001b[0maxis\u001b[0m\u001b[0;34m)\u001b[0m\u001b[0;34m\u001b[0m\u001b[0;34m\u001b[0m\u001b[0m\n\u001b[0m\u001b[1;32m   1410\u001b[0m         \u001b[0;32melif\u001b[0m \u001b[0misinstance\u001b[0m\u001b[0;34m(\u001b[0m\u001b[0mkey\u001b[0m\u001b[0;34m,\u001b[0m \u001b[0mtuple\u001b[0m\u001b[0;34m)\u001b[0m\u001b[0;34m:\u001b[0m\u001b[0;34m\u001b[0m\u001b[0;34m\u001b[0m\u001b[0m\n\u001b[1;32m   1411\u001b[0m             \u001b[0;31m# a tuple should already have been caught by this point\u001b[0m\u001b[0;34m\u001b[0m\u001b[0;34m\u001b[0m\u001b[0;34m\u001b[0m\u001b[0m\n",
      "\u001b[0;32m~/.local/lib/python3.7/site-packages/pandas/core/indexing.py\u001b[0m in \u001b[0;36m_validate_integer\u001b[0;34m(self, key, axis)\u001b[0m\n\u001b[1;32m   1498\u001b[0m         \u001b[0mlen_axis\u001b[0m \u001b[0;34m=\u001b[0m \u001b[0mlen\u001b[0m\u001b[0;34m(\u001b[0m\u001b[0mself\u001b[0m\u001b[0;34m.\u001b[0m\u001b[0mobj\u001b[0m\u001b[0;34m.\u001b[0m\u001b[0m_get_axis\u001b[0m\u001b[0;34m(\u001b[0m\u001b[0maxis\u001b[0m\u001b[0;34m)\u001b[0m\u001b[0;34m)\u001b[0m\u001b[0;34m\u001b[0m\u001b[0;34m\u001b[0m\u001b[0m\n\u001b[1;32m   1499\u001b[0m         \u001b[0;32mif\u001b[0m \u001b[0mkey\u001b[0m \u001b[0;34m>=\u001b[0m \u001b[0mlen_axis\u001b[0m \u001b[0;32mor\u001b[0m \u001b[0mkey\u001b[0m \u001b[0;34m<\u001b[0m \u001b[0;34m-\u001b[0m\u001b[0mlen_axis\u001b[0m\u001b[0;34m:\u001b[0m\u001b[0;34m\u001b[0m\u001b[0;34m\u001b[0m\u001b[0m\n\u001b[0;32m-> 1500\u001b[0;31m             \u001b[0;32mraise\u001b[0m \u001b[0mIndexError\u001b[0m\u001b[0;34m(\u001b[0m\u001b[0;34m\"single positional indexer is out-of-bounds\"\u001b[0m\u001b[0;34m)\u001b[0m\u001b[0;34m\u001b[0m\u001b[0;34m\u001b[0m\u001b[0m\n\u001b[0m\u001b[1;32m   1501\u001b[0m \u001b[0;34m\u001b[0m\u001b[0m\n\u001b[1;32m   1502\u001b[0m     \u001b[0;31m# -------------------------------------------------------------------\u001b[0m\u001b[0;34m\u001b[0m\u001b[0;34m\u001b[0m\u001b[0;34m\u001b[0m\u001b[0m\n",
      "\u001b[0;31mIndexError\u001b[0m: single positional indexer is out-of-bounds"
     ]
    }
   ],
   "source": [
    "print(X_train.shape)\n",
    "# dataset.head(10)\n",
    "# split into input (X) and output (y) variables\n",
    "X_train = encoded_dataset_train.iloc[:,0:4]\n",
    "y_train = encoded_dataset_train.iloc[:,4]\n",
    "\n",
    "X_test = encoded_dataset_test.iloc[:,0:4]\n",
    "y_test = encoded_dataset_test.iloc[:,4]"
   ]
  },
  {
   "cell_type": "code",
   "execution_count": 176,
   "id": "9b2e5d66",
   "metadata": {},
   "outputs": [
    {
     "name": "stdout",
     "output_type": "stream",
     "text": [
      "20800\n",
      "5200\n",
      "(20800, 2)\n"
     ]
    }
   ],
   "source": [
    "print(len(dataset_train.index))\n",
    "print(len(dataset_test.index))"
   ]
  },
  {
   "cell_type": "code",
   "execution_count": 84,
   "id": "d5de8464",
   "metadata": {},
   "outputs": [],
   "source": [
    "# define the keras model\n",
    "model = Sequential()\n",
    "model.add(Dense(12, input_dim= 6, activation='relu'))\n",
    "model.add(Dense(8, activation='relu'))\n",
    "model.add(Dense(1, activation='sigmoid'))"
   ]
  },
  {
   "cell_type": "code",
   "execution_count": 85,
   "id": "29ccb3da",
   "metadata": {},
   "outputs": [],
   "source": [
    "# compile the keras model\n",
    "model.compile(loss='binary_crossentropy', optimizer='adam', metrics=['accuracy'])"
   ]
  },
  {
   "cell_type": "code",
   "execution_count": 86,
   "id": "5a155196",
   "metadata": {},
   "outputs": [
    {
     "name": "stdout",
     "output_type": "stream",
     "text": [
      "Epoch 1/150\n",
      "1020/1020 [==============================] - 7s 4ms/step - loss: 28.0518 - accuracy: 0.4988 - val_loss: 1.7912 - val_accuracy: 0.4972\n",
      "Epoch 2/150\n",
      "1020/1020 [==============================] - 5s 5ms/step - loss: 1.1982 - accuracy: 0.4993 - val_loss: 0.8430 - val_accuracy: 0.4972\n",
      "Epoch 3/150\n",
      "1020/1020 [==============================] - 5s 4ms/step - loss: 0.7844 - accuracy: 0.4977 - val_loss: 0.7104 - val_accuracy: 0.5024\n",
      "Epoch 4/150\n",
      "1020/1020 [==============================] - 4s 4ms/step - loss: 0.7164 - accuracy: 0.4982 - val_loss: 0.6941 - val_accuracy: 0.4972\n",
      "Epoch 5/150\n",
      "1020/1020 [==============================] - 6s 5ms/step - loss: 0.7040 - accuracy: 0.4907 - val_loss: 0.6940 - val_accuracy: 0.4972\n",
      "Epoch 6/150\n",
      "1020/1020 [==============================] - 4s 4ms/step - loss: 0.6964 - accuracy: 0.5031 - val_loss: 0.6938 - val_accuracy: 0.5026\n",
      "Epoch 7/150\n",
      "1020/1020 [==============================] - 7s 7ms/step - loss: 0.6930 - accuracy: 0.4972 - val_loss: 0.6942 - val_accuracy: 0.4972\n",
      "Epoch 8/150\n",
      "1020/1020 [==============================] - 5s 5ms/step - loss: 0.6930 - accuracy: 0.4943 - val_loss: 0.6943 - val_accuracy: 0.4974\n",
      "Epoch 9/150\n",
      "1020/1020 [==============================] - 5s 5ms/step - loss: 0.6930 - accuracy: 0.4967 - val_loss: 0.6937 - val_accuracy: 0.5026\n",
      "Epoch 10/150\n",
      "1020/1020 [==============================] - 5s 5ms/step - loss: 0.6932 - accuracy: 0.4908 - val_loss: 0.6937 - val_accuracy: 0.5026\n",
      "Epoch 11/150\n",
      "1020/1020 [==============================] - 7s 7ms/step - loss: 0.6931 - accuracy: 0.4975 - val_loss: 0.6937 - val_accuracy: 0.5026\n",
      "Epoch 12/150\n",
      "1020/1020 [==============================] - 7s 7ms/step - loss: 0.6931 - accuracy: 0.5028 - val_loss: 0.6937 - val_accuracy: 0.5026\n",
      "Epoch 13/150\n",
      "1020/1020 [==============================] - 5s 5ms/step - loss: 0.6931 - accuracy: 0.4996 - val_loss: 0.6937 - val_accuracy: 0.5026\n",
      "Epoch 14/150\n",
      "1020/1020 [==============================] - 4s 4ms/step - loss: 0.6932 - accuracy: 0.4908 - val_loss: 0.6937 - val_accuracy: 0.5026\n",
      "Epoch 15/150\n",
      "1020/1020 [==============================] - 5s 5ms/step - loss: 0.6932 - accuracy: 0.4924 - val_loss: 0.6937 - val_accuracy: 0.5026\n",
      "Epoch 16/150\n",
      "1020/1020 [==============================] - 4s 4ms/step - loss: 0.6932 - accuracy: 0.4920 - val_loss: 0.6937 - val_accuracy: 0.5026\n",
      "Epoch 17/150\n",
      "1020/1020 [==============================] - 6s 6ms/step - loss: 0.6932 - accuracy: 0.4925 - val_loss: 0.6937 - val_accuracy: 0.4974\n",
      "Epoch 18/150\n",
      "1020/1020 [==============================] - 8s 8ms/step - loss: 0.6931 - accuracy: 0.5009 - val_loss: 0.6937 - val_accuracy: 0.4974\n",
      "Epoch 19/150\n",
      "1020/1020 [==============================] - 7s 7ms/step - loss: 0.6931 - accuracy: 0.4992 - val_loss: 0.6937 - val_accuracy: 0.5026\n",
      "Epoch 20/150\n",
      "1020/1020 [==============================] - 6s 5ms/step - loss: 0.6932 - accuracy: 0.4963 - val_loss: 0.6937 - val_accuracy: 0.4974\n",
      "Epoch 21/150\n",
      "1020/1020 [==============================] - 5s 5ms/step - loss: 0.6931 - accuracy: 0.5032 - val_loss: 0.6937 - val_accuracy: 0.5026\n",
      "Epoch 22/150\n",
      "1020/1020 [==============================] - 4s 4ms/step - loss: 0.6932 - accuracy: 0.4955 - val_loss: 0.6937 - val_accuracy: 0.5026\n",
      "Epoch 23/150\n",
      "1020/1020 [==============================] - 5s 5ms/step - loss: 0.6931 - accuracy: 0.4948 - val_loss: 0.6937 - val_accuracy: 0.5026\n",
      "Epoch 24/150\n",
      "1020/1020 [==============================] - 4s 4ms/step - loss: 0.6931 - accuracy: 0.4963 - val_loss: 0.6937 - val_accuracy: 0.5026\n",
      "Epoch 25/150\n",
      "1020/1020 [==============================] - 5s 5ms/step - loss: 0.6931 - accuracy: 0.5022 - val_loss: 0.6937 - val_accuracy: 0.4974\n",
      "Epoch 26/150\n",
      "1020/1020 [==============================] - 5s 5ms/step - loss: 0.6931 - accuracy: 0.4982 - val_loss: 0.6937 - val_accuracy: 0.5026\n",
      "Epoch 27/150\n",
      "1020/1020 [==============================] - 5s 5ms/step - loss: 0.6931 - accuracy: 0.4967 - val_loss: 0.6937 - val_accuracy: 0.4974\n",
      "Epoch 28/150\n",
      "1020/1020 [==============================] - 5s 5ms/step - loss: 0.6931 - accuracy: 0.4973 - val_loss: 0.6937 - val_accuracy: 0.4974\n",
      "Epoch 29/150\n",
      "1020/1020 [==============================] - 7s 6ms/step - loss: 0.6931 - accuracy: 0.4984 - val_loss: 0.6937 - val_accuracy: 0.5026\n",
      "Epoch 30/150\n",
      "1020/1020 [==============================] - 6s 6ms/step - loss: 0.6932 - accuracy: 0.4844 - val_loss: 0.6937 - val_accuracy: 0.5026\n",
      "Epoch 31/150\n",
      "1020/1020 [==============================] - 6s 6ms/step - loss: 0.6931 - accuracy: 0.4903 - val_loss: 0.6937 - val_accuracy: 0.5026\n",
      "Epoch 32/150\n",
      "1020/1020 [==============================] - 4s 4ms/step - loss: 0.6931 - accuracy: 0.5006 - val_loss: 0.6937 - val_accuracy: 0.5026\n",
      "Epoch 33/150\n",
      "1020/1020 [==============================] - 4s 4ms/step - loss: 0.6931 - accuracy: 0.4994 - val_loss: 0.6937 - val_accuracy: 0.4974\n",
      "Epoch 34/150\n",
      "1020/1020 [==============================] - 4s 4ms/step - loss: 0.6931 - accuracy: 0.5011 - val_loss: 0.6937 - val_accuracy: 0.5026\n",
      "Epoch 35/150\n",
      "1020/1020 [==============================] - 4s 4ms/step - loss: 0.6931 - accuracy: 0.5004 - val_loss: 0.6937 - val_accuracy: 0.5026\n",
      "Epoch 36/150\n",
      "1020/1020 [==============================] - 4s 4ms/step - loss: 0.6932 - accuracy: 0.4959 - val_loss: 0.6937 - val_accuracy: 0.5026\n",
      "Epoch 37/150\n",
      "1020/1020 [==============================] - 5s 5ms/step - loss: 0.6932 - accuracy: 0.4991 - val_loss: 0.6937 - val_accuracy: 0.5026\n",
      "Epoch 38/150\n",
      "1020/1020 [==============================] - 5s 5ms/step - loss: 0.6932 - accuracy: 0.4923 - val_loss: 0.6937 - val_accuracy: 0.5026\n",
      "Epoch 39/150\n",
      "1020/1020 [==============================] - 5s 5ms/step - loss: 0.6931 - accuracy: 0.4942 - val_loss: 0.6937 - val_accuracy: 0.5026\n",
      "Epoch 40/150\n",
      "1020/1020 [==============================] - 4s 4ms/step - loss: 0.6932 - accuracy: 0.4934 - val_loss: 0.6937 - val_accuracy: 0.5026\n",
      "Epoch 41/150\n",
      "1020/1020 [==============================] - 4s 4ms/step - loss: 0.6931 - accuracy: 0.4996 - val_loss: 0.6937 - val_accuracy: 0.4974\n",
      "Epoch 42/150\n",
      "1020/1020 [==============================] - 6s 6ms/step - loss: 0.6932 - accuracy: 0.4989 - val_loss: 0.6937 - val_accuracy: 0.5026\n",
      "Epoch 43/150\n",
      "1020/1020 [==============================] - 4s 4ms/step - loss: 0.6932 - accuracy: 0.4976 - val_loss: 0.6937 - val_accuracy: 0.4974\n",
      "Epoch 44/150\n",
      "1020/1020 [==============================] - 4s 4ms/step - loss: 0.6931 - accuracy: 0.4963 - val_loss: 0.6937 - val_accuracy: 0.4974\n",
      "Epoch 45/150\n",
      "1020/1020 [==============================] - 4s 4ms/step - loss: 0.6931 - accuracy: 0.4925 - val_loss: 0.6937 - val_accuracy: 0.4974\n",
      "Epoch 46/150\n",
      "1020/1020 [==============================] - 4s 4ms/step - loss: 0.6931 - accuracy: 0.5015 - val_loss: 0.6938 - val_accuracy: 0.4974\n",
      "Epoch 47/150\n",
      "1020/1020 [==============================] - 4s 4ms/step - loss: 0.6932 - accuracy: 0.4970 - val_loss: 0.6937 - val_accuracy: 0.4974\n",
      "Epoch 48/150\n",
      "1020/1020 [==============================] - 5s 5ms/step - loss: 0.6931 - accuracy: 0.5037 - val_loss: 0.6938 - val_accuracy: 0.4974\n",
      "Epoch 49/150\n",
      "1020/1020 [==============================] - 5s 5ms/step - loss: 0.6931 - accuracy: 0.4992 - val_loss: 0.6938 - val_accuracy: 0.4974\n",
      "Epoch 50/150\n",
      "1020/1020 [==============================] - 4s 4ms/step - loss: 0.6931 - accuracy: 0.4950 - val_loss: 0.6937 - val_accuracy: 0.5026\n",
      "Epoch 51/150\n",
      "1020/1020 [==============================] - 6s 6ms/step - loss: 0.6932 - accuracy: 0.4962 - val_loss: 0.6937 - val_accuracy: 0.5026\n",
      "Epoch 52/150\n",
      "1020/1020 [==============================] - 5s 5ms/step - loss: 0.6931 - accuracy: 0.4865 - val_loss: 0.6937 - val_accuracy: 0.5026\n",
      "Epoch 53/150\n",
      "1020/1020 [==============================] - 6s 6ms/step - loss: 0.6932 - accuracy: 0.4941 - val_loss: 0.6937 - val_accuracy: 0.4974\n",
      "Epoch 54/150\n",
      "1020/1020 [==============================] - 5s 5ms/step - loss: 0.6931 - accuracy: 0.4979 - val_loss: 0.6937 - val_accuracy: 0.5026\n",
      "Epoch 55/150\n",
      "1020/1020 [==============================] - 4s 4ms/step - loss: 0.6931 - accuracy: 0.4953 - val_loss: 0.6937 - val_accuracy: 0.4974\n",
      "Epoch 56/150\n",
      "1020/1020 [==============================] - 5s 5ms/step - loss: 0.6931 - accuracy: 0.4987 - val_loss: 0.6937 - val_accuracy: 0.5026\n",
      "Epoch 57/150\n"
     ]
    },
    {
     "name": "stdout",
     "output_type": "stream",
     "text": [
      "1020/1020 [==============================] - 4s 4ms/step - loss: 0.6931 - accuracy: 0.5008 - val_loss: 0.6937 - val_accuracy: 0.5026\n",
      "Epoch 58/150\n",
      "1020/1020 [==============================] - 4s 4ms/step - loss: 0.6932 - accuracy: 0.5002 - val_loss: 0.6937 - val_accuracy: 0.5026\n",
      "Epoch 59/150\n",
      "1020/1020 [==============================] - 4s 4ms/step - loss: 0.6931 - accuracy: 0.4923 - val_loss: 0.6937 - val_accuracy: 0.4974\n",
      "Epoch 60/150\n",
      "1020/1020 [==============================] - 5s 5ms/step - loss: 0.6931 - accuracy: 0.4959 - val_loss: 0.6937 - val_accuracy: 0.4974\n",
      "Epoch 61/150\n",
      "1020/1020 [==============================] - 4s 4ms/step - loss: 0.6931 - accuracy: 0.4992 - val_loss: 0.6937 - val_accuracy: 0.4974\n",
      "Epoch 62/150\n",
      "1020/1020 [==============================] - 3s 3ms/step - loss: 0.6931 - accuracy: 0.4960 - val_loss: 0.6937 - val_accuracy: 0.4974\n",
      "Epoch 63/150\n",
      "1020/1020 [==============================] - 3s 3ms/step - loss: 0.6932 - accuracy: 0.4927 - val_loss: 0.6937 - val_accuracy: 0.4974\n",
      "Epoch 64/150\n",
      "1020/1020 [==============================] - 3s 3ms/step - loss: 0.6932 - accuracy: 0.4871 - val_loss: 0.6937 - val_accuracy: 0.5026\n",
      "Epoch 65/150\n",
      "1020/1020 [==============================] - 4s 4ms/step - loss: 0.6931 - accuracy: 0.4908 - val_loss: 0.6937 - val_accuracy: 0.5026\n",
      "Epoch 66/150\n",
      "1020/1020 [==============================] - 4s 4ms/step - loss: 0.6932 - accuracy: 0.4932 - val_loss: 0.6937 - val_accuracy: 0.4974\n",
      "Epoch 67/150\n",
      "1020/1020 [==============================] - 4s 4ms/step - loss: 0.6931 - accuracy: 0.4983 - val_loss: 0.6937 - val_accuracy: 0.5026 - loss: 0.6931 - accuracy: 0.\n",
      "Epoch 68/150\n",
      "1020/1020 [==============================] - 3s 3ms/step - loss: 0.6932 - accuracy: 0.4914 - val_loss: 0.6937 - val_accuracy: 0.4974\n",
      "Epoch 69/150\n",
      "1020/1020 [==============================] - 5s 5ms/step - loss: 0.6932 - accuracy: 0.4941 - val_loss: 0.6937 - val_accuracy: 0.4974\n",
      "Epoch 70/150\n",
      "1020/1020 [==============================] - 7s 6ms/step - loss: 0.6931 - accuracy: 0.4983 - val_loss: 0.6937 - val_accuracy: 0.5026\n",
      "Epoch 71/150\n",
      "1020/1020 [==============================] - 5s 5ms/step - loss: 0.6931 - accuracy: 0.4981 - val_loss: 0.6937 - val_accuracy: 0.5026\n",
      "Epoch 72/150\n",
      "1020/1020 [==============================] - 4s 4ms/step - loss: 0.6931 - accuracy: 0.4929 - val_loss: 0.6937 - val_accuracy: 0.5026\n",
      "Epoch 73/150\n",
      "1020/1020 [==============================] - 4s 4ms/step - loss: 0.6932 - accuracy: 0.4988 - val_loss: 0.6937 - val_accuracy: 0.4974\n",
      "Epoch 74/150\n",
      "1020/1020 [==============================] - 5s 5ms/step - loss: 0.6931 - accuracy: 0.4877 - val_loss: 0.6937 - val_accuracy: 0.4974\n",
      "Epoch 75/150\n",
      "1020/1020 [==============================] - 4s 4ms/step - loss: 0.6931 - accuracy: 0.4953 - val_loss: 0.6937 - val_accuracy: 0.5026\n",
      "Epoch 76/150\n",
      "1020/1020 [==============================] - 6s 6ms/step - loss: 0.6931 - accuracy: 0.5011 - val_loss: 0.6937 - val_accuracy: 0.5026\n",
      "Epoch 77/150\n",
      "1020/1020 [==============================] - 5s 5ms/step - loss: 0.6932 - accuracy: 0.4896 - val_loss: 0.6937 - val_accuracy: 0.5026\n",
      "Epoch 78/150\n",
      "1020/1020 [==============================] - 5s 5ms/step - loss: 0.6931 - accuracy: 0.4974 - val_loss: 0.6937 - val_accuracy: 0.4974\n",
      "Epoch 79/150\n",
      "1020/1020 [==============================] - 4s 4ms/step - loss: 0.6931 - accuracy: 0.4974 - val_loss: 0.6937 - val_accuracy: 0.5026\n",
      "Epoch 80/150\n",
      "1020/1020 [==============================] - 4s 4ms/step - loss: 0.6931 - accuracy: 0.4940 - val_loss: 0.6937 - val_accuracy: 0.4974\n",
      "Epoch 81/150\n",
      "1020/1020 [==============================] - 5s 5ms/step - loss: 0.6931 - accuracy: 0.5006 - val_loss: 0.6937 - val_accuracy: 0.4974\n",
      "Epoch 82/150\n",
      "1020/1020 [==============================] - 6s 6ms/step - loss: 0.6931 - accuracy: 0.4972 - val_loss: 0.6937 - val_accuracy: 0.5026\n",
      "Epoch 83/150\n",
      "1020/1020 [==============================] - 5s 5ms/step - loss: 0.6931 - accuracy: 0.4928 - val_loss: 0.6937 - val_accuracy: 0.5026\n",
      "Epoch 84/150\n",
      "1020/1020 [==============================] - 4s 3ms/step - loss: 0.6932 - accuracy: 0.4920 - val_loss: 0.6937 - val_accuracy: 0.5026\n",
      "Epoch 85/150\n",
      "1020/1020 [==============================] - 4s 4ms/step - loss: 0.6931 - accuracy: 0.4944 - val_loss: 0.6937 - val_accuracy: 0.5026\n",
      "Epoch 86/150\n",
      "1020/1020 [==============================] - 4s 4ms/step - loss: 0.6932 - accuracy: 0.4918 - val_loss: 0.6937 - val_accuracy: 0.5026\n",
      "Epoch 87/150\n",
      "1020/1020 [==============================] - 4s 3ms/step - loss: 0.6931 - accuracy: 0.4930 - val_loss: 0.6937 - val_accuracy: 0.5026\n",
      "Epoch 88/150\n",
      "1020/1020 [==============================] - 5s 4ms/step - loss: 0.6932 - accuracy: 0.4917 - val_loss: 0.6937 - val_accuracy: 0.4974\n",
      "Epoch 89/150\n",
      "1020/1020 [==============================] - 5s 5ms/step - loss: 0.6932 - accuracy: 0.4956 - val_loss: 0.6937 - val_accuracy: 0.5026\n",
      "Epoch 90/150\n",
      "1020/1020 [==============================] - 7s 6ms/step - loss: 0.6931 - accuracy: 0.4950 - val_loss: 0.6937 - val_accuracy: 0.5026\n",
      "Epoch 91/150\n",
      "1020/1020 [==============================] - 5s 5ms/step - loss: 0.6931 - accuracy: 0.4964 - val_loss: 0.6937 - val_accuracy: 0.5026\n",
      "Epoch 92/150\n",
      "1020/1020 [==============================] - 5s 5ms/step - loss: 0.6931 - accuracy: 0.4953 - val_loss: 0.6937 - val_accuracy: 0.5026\n",
      "Epoch 93/150\n",
      "1020/1020 [==============================] - 5s 5ms/step - loss: 0.6931 - accuracy: 0.4933 - val_loss: 0.6937 - val_accuracy: 0.4974\n",
      "Epoch 94/150\n",
      "1020/1020 [==============================] - 7s 7ms/step - loss: 0.6931 - accuracy: 0.4987 - val_loss: 0.6937 - val_accuracy: 0.5026\n",
      "Epoch 95/150\n",
      "1020/1020 [==============================] - 7s 7ms/step - loss: 0.6932 - accuracy: 0.4882 - val_loss: 0.6937 - val_accuracy: 0.5026\n",
      "Epoch 96/150\n",
      "1020/1020 [==============================] - 6s 6ms/step - loss: 0.6931 - accuracy: 0.4967 - val_loss: 0.6937 - val_accuracy: 0.4974\n",
      "Epoch 97/150\n",
      "1020/1020 [==============================] - 6s 6ms/step - loss: 0.6931 - accuracy: 0.5010 - val_loss: 0.6937 - val_accuracy: 0.5026\n",
      "Epoch 98/150\n",
      "1020/1020 [==============================] - 6s 6ms/step - loss: 0.6931 - accuracy: 0.4963 - val_loss: 0.6937 - val_accuracy: 0.4974\n",
      "Epoch 99/150\n",
      "1020/1020 [==============================] - 11s 10ms/step - loss: 0.6932 - accuracy: 0.4902 - val_loss: 0.6937 - val_accuracy: 0.4974\n",
      "Epoch 100/150\n",
      "1020/1020 [==============================] - 11s 11ms/step - loss: 0.6932 - accuracy: 0.4910 - val_loss: 0.6937 - val_accuracy: 0.4974\n",
      "Epoch 101/150\n",
      "1020/1020 [==============================] - 9s 9ms/step - loss: 0.6932 - accuracy: 0.4898 - val_loss: 0.6937 - val_accuracy: 0.4974\n",
      "Epoch 102/150\n",
      "1020/1020 [==============================] - 7s 7ms/step - loss: 0.6931 - accuracy: 0.5021 - val_loss: 0.6937 - val_accuracy: 0.5026\n",
      "Epoch 103/150\n",
      "1020/1020 [==============================] - 6s 6ms/step - loss: 0.6931 - accuracy: 0.5006 - val_loss: 0.6937 - val_accuracy: 0.4974\n",
      "Epoch 104/150\n",
      "1020/1020 [==============================] - 5s 5ms/step - loss: 0.6931 - accuracy: 0.5039 - val_loss: 0.6938 - val_accuracy: 0.4974\n",
      "Epoch 105/150\n",
      "1020/1020 [==============================] - 6s 6ms/step - loss: 0.6932 - accuracy: 0.4979 - val_loss: 0.6937 - val_accuracy: 0.4974\n",
      "Epoch 106/150\n",
      "1020/1020 [==============================] - 7s 7ms/step - loss: 0.6931 - accuracy: 0.5013 - val_loss: 0.6937 - val_accuracy: 0.5026\n",
      "Epoch 107/150\n",
      "1020/1020 [==============================] - 7s 7ms/step - loss: 0.6932 - accuracy: 0.4881 - val_loss: 0.6937 - val_accuracy: 0.5026\n",
      "Epoch 108/150\n",
      "1020/1020 [==============================] - 8s 8ms/step - loss: 0.6932 - accuracy: 0.4956 - val_loss: 0.6937 - val_accuracy: 0.5026\n",
      "Epoch 109/150\n",
      "1020/1020 [==============================] - 5s 5ms/step - loss: 0.6931 - accuracy: 0.4946 - val_loss: 0.6937 - val_accuracy: 0.5026\n",
      "Epoch 110/150\n",
      "1020/1020 [==============================] - 5s 5ms/step - loss: 0.6931 - accuracy: 0.4960 - val_loss: 0.6937 - val_accuracy: 0.5026\n",
      "Epoch 111/150\n",
      "1020/1020 [==============================] - 5s 5ms/step - loss: 0.6931 - accuracy: 0.4998 - val_loss: 0.6937 - val_accuracy: 0.5026\n",
      "Epoch 112/150\n",
      "1020/1020 [==============================] - 4s 4ms/step - loss: 0.6931 - accuracy: 0.4913 - val_loss: 0.6937 - val_accuracy: 0.5026\n"
     ]
    },
    {
     "name": "stdout",
     "output_type": "stream",
     "text": [
      "Epoch 113/150\n",
      "1020/1020 [==============================] - 3s 3ms/step - loss: 0.6931 - accuracy: 0.4931 - val_loss: 0.6937 - val_accuracy: 0.4974\n",
      "Epoch 114/150\n",
      "1020/1020 [==============================] - 3s 3ms/step - loss: 0.6931 - accuracy: 0.4956 - val_loss: 0.6937 - val_accuracy: 0.5026\n",
      "Epoch 115/150\n",
      "1020/1020 [==============================] - 3s 3ms/step - loss: 0.6932 - accuracy: 0.4939 - val_loss: 0.6937 - val_accuracy: 0.4974\n",
      "Epoch 116/150\n",
      "1020/1020 [==============================] - 3s 3ms/step - loss: 0.6932 - accuracy: 0.4976 - val_loss: 0.6937 - val_accuracy: 0.5026\n",
      "Epoch 117/150\n",
      "1020/1020 [==============================] - 4s 3ms/step - loss: 0.6931 - accuracy: 0.4976 - val_loss: 0.6937 - val_accuracy: 0.5026\n",
      "Epoch 118/150\n",
      "1020/1020 [==============================] - 4s 4ms/step - loss: 0.6931 - accuracy: 0.4992 - val_loss: 0.6937 - val_accuracy: 0.5026\n",
      "Epoch 119/150\n",
      "1020/1020 [==============================] - 3s 3ms/step - loss: 0.6932 - accuracy: 0.4991 - val_loss: 0.6937 - val_accuracy: 0.4974\n",
      "Epoch 120/150\n",
      "1020/1020 [==============================] - 3s 3ms/step - loss: 0.6931 - accuracy: 0.5009 - val_loss: 0.6938 - val_accuracy: 0.4974\n",
      "Epoch 121/150\n",
      "1020/1020 [==============================] - 3s 3ms/step - loss: 0.6932 - accuracy: 0.4961 - val_loss: 0.6937 - val_accuracy: 0.4974\n",
      "Epoch 122/150\n",
      "1020/1020 [==============================] - 4s 3ms/step - loss: 0.6932 - accuracy: 0.4960 - val_loss: 0.6937 - val_accuracy: 0.5026\n",
      "Epoch 123/150\n",
      "1020/1020 [==============================] - 4s 4ms/step - loss: 0.6931 - accuracy: 0.5002 - val_loss: 0.6937 - val_accuracy: 0.4974\n",
      "Epoch 124/150\n",
      "1020/1020 [==============================] - 4s 4ms/step - loss: 0.6931 - accuracy: 0.5007 - val_loss: 0.6937 - val_accuracy: 0.5026\n",
      "Epoch 125/150\n",
      "1020/1020 [==============================] - 4s 4ms/step - loss: 0.6931 - accuracy: 0.4973 - val_loss: 0.6937 - val_accuracy: 0.4974\n",
      "Epoch 126/150\n",
      "1020/1020 [==============================] - 4s 4ms/step - loss: 0.6931 - accuracy: 0.4953 - val_loss: 0.6937 - val_accuracy: 0.4974\n",
      "Epoch 127/150\n",
      "1020/1020 [==============================] - 4s 4ms/step - loss: 0.6931 - accuracy: 0.4993 - val_loss: 0.6937 - val_accuracy: 0.4974\n",
      "Epoch 128/150\n",
      "1020/1020 [==============================] - 5s 5ms/step - loss: 0.6931 - accuracy: 0.4919 - val_loss: 0.6937 - val_accuracy: 0.5026\n",
      "Epoch 129/150\n",
      "1020/1020 [==============================] - 7s 7ms/step - loss: 0.6931 - accuracy: 0.4935 - val_loss: 0.6937 - val_accuracy: 0.4974\n",
      "Epoch 130/150\n",
      "1020/1020 [==============================] - 5s 5ms/step - loss: 0.6931 - accuracy: 0.4982 - val_loss: 0.6937 - val_accuracy: 0.5026\n",
      "Epoch 131/150\n",
      "1020/1020 [==============================] - 5s 5ms/step - loss: 0.6931 - accuracy: 0.4991 - val_loss: 0.6937 - val_accuracy: 0.5026\n",
      "Epoch 132/150\n",
      "1020/1020 [==============================] - 5s 5ms/step - loss: 0.6931 - accuracy: 0.4994 - val_loss: 0.6937 - val_accuracy: 0.4974\n",
      "Epoch 133/150\n",
      "1020/1020 [==============================] - 5s 5ms/step - loss: 0.6932 - accuracy: 0.4967 - val_loss: 0.6937 - val_accuracy: 0.5026\n",
      "Epoch 134/150\n",
      "1020/1020 [==============================] - 4s 4ms/step - loss: 0.6931 - accuracy: 0.4950 - val_loss: 0.6937 - val_accuracy: 0.4974\n",
      "Epoch 135/150\n",
      "1020/1020 [==============================] - 4s 4ms/step - loss: 0.6932 - accuracy: 0.4971 - val_loss: 0.6937 - val_accuracy: 0.4974\n",
      "Epoch 136/150\n",
      "1020/1020 [==============================] - 5s 4ms/step - loss: 0.6931 - accuracy: 0.4950 - val_loss: 0.6937 - val_accuracy: 0.5026\n",
      "Epoch 137/150\n",
      "1020/1020 [==============================] - 5s 4ms/step - loss: 0.6931 - accuracy: 0.4935 - val_loss: 0.6937 - val_accuracy: 0.5026\n",
      "Epoch 138/150\n",
      "1020/1020 [==============================] - 5s 4ms/step - loss: 0.6931 - accuracy: 0.4996 - val_loss: 0.6937 - val_accuracy: 0.4974\n",
      "Epoch 139/150\n",
      "1020/1020 [==============================] - 5s 5ms/step - loss: 0.6932 - accuracy: 0.4894 - val_loss: 0.6937 - val_accuracy: 0.4974\n",
      "Epoch 140/150\n",
      "1020/1020 [==============================] - 5s 5ms/step - loss: 0.6931 - accuracy: 0.4999 - val_loss: 0.6937 - val_accuracy: 0.5026\n",
      "Epoch 141/150\n",
      "1020/1020 [==============================] - 4s 4ms/step - loss: 0.6932 - accuracy: 0.4863 - val_loss: 0.6937 - val_accuracy: 0.5026\n",
      "Epoch 142/150\n",
      "1020/1020 [==============================] - 5s 5ms/step - loss: 0.6931 - accuracy: 0.5000 - val_loss: 0.6937 - val_accuracy: 0.5026\n",
      "Epoch 143/150\n",
      "1020/1020 [==============================] - 4s 4ms/step - loss: 0.6931 - accuracy: 0.4987 - val_loss: 0.6937 - val_accuracy: 0.4974\n",
      "Epoch 144/150\n",
      "1020/1020 [==============================] - 4s 4ms/step - loss: 0.6931 - accuracy: 0.4972 - val_loss: 0.6937 - val_accuracy: 0.4974\n",
      "Epoch 145/150\n",
      "1020/1020 [==============================] - 4s 4ms/step - loss: 0.6932 - accuracy: 0.4977 - val_loss: 0.6937 - val_accuracy: 0.5026\n",
      "Epoch 146/150\n",
      "1020/1020 [==============================] - 5s 5ms/step - loss: 0.6931 - accuracy: 0.4990 - val_loss: 0.6937 - val_accuracy: 0.4974\n",
      "Epoch 147/150\n",
      "1020/1020 [==============================] - 5s 5ms/step - loss: 0.6931 - accuracy: 0.4944 - val_loss: 0.6937 - val_accuracy: 0.5026\n",
      "Epoch 148/150\n",
      "1020/1020 [==============================] - 4s 4ms/step - loss: 0.6932 - accuracy: 0.4888 - val_loss: 0.6937 - val_accuracy: 0.4974\n",
      "Epoch 149/150\n",
      "1020/1020 [==============================] - 3s 3ms/step - loss: 0.6931 - accuracy: 0.5004 - val_loss: 0.6937 - val_accuracy: 0.4974\n",
      "Epoch 150/150\n",
      "1020/1020 [==============================] - 4s 3ms/step - loss: 0.6931 - accuracy: 0.5062 - val_loss: 0.6937 - val_accuracy: 0.5026\n"
     ]
    }
   ],
   "source": [
    "# fit the keras model on the dataset\n",
    "# X_train = np.asarray(X_train).astype(np.int)\n",
    "history = model.fit(X_train, y_train, epochs=150, batch_size=10, verbose=1, validation_split=0.33)"
   ]
  },
  {
   "cell_type": "code",
   "execution_count": 170,
   "id": "ae585ab4",
   "metadata": {},
   "outputs": [
    {
     "ename": "ValueError",
     "evalue": "invalid literal for int() with base 10: 'date'",
     "output_type": "error",
     "traceback": [
      "\u001b[0;31m---------------------------------------------------------------------------\u001b[0m",
      "\u001b[0;31mValueError\u001b[0m                                Traceback (most recent call last)",
      "\u001b[0;32m/var/folders/74/pbg99trj5pzbpzx9hzcgsxrmwksdx5/T/ipykernel_92018/3157344523.py\u001b[0m in \u001b[0;36m<module>\u001b[0;34m\u001b[0m\n\u001b[0;32m----> 1\u001b[0;31m \u001b[0mX_train\u001b[0m \u001b[0;34m=\u001b[0m \u001b[0mpad_sequences\u001b[0m\u001b[0;34m(\u001b[0m\u001b[0msequences\u001b[0m \u001b[0;34m=\u001b[0m \u001b[0mX_train\u001b[0m\u001b[0;34m,\u001b[0m \u001b[0mmaxlen\u001b[0m \u001b[0;34m=\u001b[0m \u001b[0;36m4\u001b[0m\u001b[0;34m,\u001b[0m \u001b[0mpadding\u001b[0m \u001b[0;34m=\u001b[0m \u001b[0;34m'pre'\u001b[0m\u001b[0;34m)\u001b[0m\u001b[0;34m\u001b[0m\u001b[0;34m\u001b[0m\u001b[0m\n\u001b[0m",
      "\u001b[0;32m~/.pyenv/versions/3.7.5/lib/python3.7/site-packages/tensorflow/python/keras/preprocessing/sequence.py\u001b[0m in \u001b[0;36mpad_sequences\u001b[0;34m(sequences, maxlen, dtype, padding, truncating, value)\u001b[0m\n\u001b[1;32m    152\u001b[0m   return sequence.pad_sequences(\n\u001b[1;32m    153\u001b[0m       \u001b[0msequences\u001b[0m\u001b[0;34m,\u001b[0m \u001b[0mmaxlen\u001b[0m\u001b[0;34m=\u001b[0m\u001b[0mmaxlen\u001b[0m\u001b[0;34m,\u001b[0m \u001b[0mdtype\u001b[0m\u001b[0;34m=\u001b[0m\u001b[0mdtype\u001b[0m\u001b[0;34m,\u001b[0m\u001b[0;34m\u001b[0m\u001b[0;34m\u001b[0m\u001b[0m\n\u001b[0;32m--> 154\u001b[0;31m       padding=padding, truncating=truncating, value=value)\n\u001b[0m\u001b[1;32m    155\u001b[0m \u001b[0;34m\u001b[0m\u001b[0m\n\u001b[1;32m    156\u001b[0m keras_export(\n",
      "\u001b[0;32m~/.pyenv/versions/3.7.5/lib/python3.7/site-packages/keras_preprocessing/sequence.py\u001b[0m in \u001b[0;36mpad_sequences\u001b[0;34m(sequences, maxlen, dtype, padding, truncating, value)\u001b[0m\n\u001b[1;32m     96\u001b[0m \u001b[0;34m\u001b[0m\u001b[0m\n\u001b[1;32m     97\u001b[0m         \u001b[0;31m# check `trunc` has expected shape\u001b[0m\u001b[0;34m\u001b[0m\u001b[0;34m\u001b[0m\u001b[0;34m\u001b[0m\u001b[0m\n\u001b[0;32m---> 98\u001b[0;31m         \u001b[0mtrunc\u001b[0m \u001b[0;34m=\u001b[0m \u001b[0mnp\u001b[0m\u001b[0;34m.\u001b[0m\u001b[0masarray\u001b[0m\u001b[0;34m(\u001b[0m\u001b[0mtrunc\u001b[0m\u001b[0;34m,\u001b[0m \u001b[0mdtype\u001b[0m\u001b[0;34m=\u001b[0m\u001b[0mdtype\u001b[0m\u001b[0;34m)\u001b[0m\u001b[0;34m\u001b[0m\u001b[0;34m\u001b[0m\u001b[0m\n\u001b[0m\u001b[1;32m     99\u001b[0m         \u001b[0;32mif\u001b[0m \u001b[0mtrunc\u001b[0m\u001b[0;34m.\u001b[0m\u001b[0mshape\u001b[0m\u001b[0;34m[\u001b[0m\u001b[0;36m1\u001b[0m\u001b[0;34m:\u001b[0m\u001b[0;34m]\u001b[0m \u001b[0;34m!=\u001b[0m \u001b[0msample_shape\u001b[0m\u001b[0;34m:\u001b[0m\u001b[0;34m\u001b[0m\u001b[0;34m\u001b[0m\u001b[0m\n\u001b[1;32m    100\u001b[0m             raise ValueError('Shape of sample %s of sequence at position %s '\n",
      "\u001b[0;32m~/.pyenv/versions/3.7.5/lib/python3.7/site-packages/numpy/core/_asarray.py\u001b[0m in \u001b[0;36masarray\u001b[0;34m(a, dtype, order)\u001b[0m\n\u001b[1;32m     81\u001b[0m \u001b[0;34m\u001b[0m\u001b[0m\n\u001b[1;32m     82\u001b[0m     \"\"\"\n\u001b[0;32m---> 83\u001b[0;31m     \u001b[0;32mreturn\u001b[0m \u001b[0marray\u001b[0m\u001b[0;34m(\u001b[0m\u001b[0ma\u001b[0m\u001b[0;34m,\u001b[0m \u001b[0mdtype\u001b[0m\u001b[0;34m,\u001b[0m \u001b[0mcopy\u001b[0m\u001b[0;34m=\u001b[0m\u001b[0;32mFalse\u001b[0m\u001b[0;34m,\u001b[0m \u001b[0morder\u001b[0m\u001b[0;34m=\u001b[0m\u001b[0morder\u001b[0m\u001b[0;34m)\u001b[0m\u001b[0;34m\u001b[0m\u001b[0;34m\u001b[0m\u001b[0m\n\u001b[0m\u001b[1;32m     84\u001b[0m \u001b[0;34m\u001b[0m\u001b[0m\n\u001b[1;32m     85\u001b[0m \u001b[0;34m\u001b[0m\u001b[0m\n",
      "\u001b[0;31mValueError\u001b[0m: invalid literal for int() with base 10: 'date'"
     ]
    }
   ],
   "source": [
    "X_train = pad_sequences(sequences = X_train, maxlen = 4, padding = 'pre')"
   ]
  },
  {
   "cell_type": "code",
   "execution_count": 159,
   "id": "fad37926",
   "metadata": {},
   "outputs": [],
   "source": [
    "# LSTM Neural Network\n",
    "lstm_model = Sequential(name = 'lstm_nn_model')\n",
    "lstm_model.add(layer = Embedding(input_dim = 6, output_dim = 1, name = '1st_layer'))\n",
    "lstm_model.add(layer = LSTM(units = 120, dropout = 0.2, recurrent_dropout = 0.2, name = '2nd_layer'))\n",
    "lstm_model.add(layer = Dropout(rate = 0.5, name = '3rd_layer'))\n",
    "lstm_model.add(Flatten())\n",
    "lstm_model.add(layer = Dense(units = 120,  activation = 'relu', name = '4th_layer'))\n",
    "lstm_model.add(layer = Dropout(rate = 0.5, name = '5th_layer'))\n",
    "lstm_model.add(layer = Dense(2,  activation = 'softmax', name = 'output_layer'))"
   ]
  },
  {
   "cell_type": "code",
   "execution_count": 160,
   "id": "3e88959a",
   "metadata": {},
   "outputs": [
    {
     "name": "stdout",
     "output_type": "stream",
     "text": [
      "(15212,)\n",
      "(15212, 6)\n"
     ]
    }
   ],
   "source": [
    "print(y_train.shape)\n",
    "print(X_train.shape)"
   ]
  },
  {
   "cell_type": "code",
   "execution_count": 161,
   "id": "0e4ec402",
   "metadata": {},
   "outputs": [],
   "source": [
    "# compile the keras model\n",
    "lstm_model.compile(loss='sparse_categorical_crossentropy', optimizer='adam', metrics=['accuracy'])"
   ]
  },
  {
   "cell_type": "code",
   "execution_count": 162,
   "id": "290355b9",
   "metadata": {},
   "outputs": [
    {
     "name": "stdout",
     "output_type": "stream",
     "text": [
      "Epoch 1/5\n"
     ]
    },
    {
     "ename": "InvalidArgumentError",
     "evalue": " indices[0,0] = 9580 is not in [0, 6)\n\t [[node lstm_nn_model/1st_layer/embedding_lookup (defined at var/folders/74/pbg99trj5pzbpzx9hzcgsxrmwksdx5/T/ipykernel_92018/475672019.py:3) ]] [Op:__inference_train_function_2226986]\n\nErrors may have originated from an input operation.\nInput Source operations connected to node lstm_nn_model/1st_layer/embedding_lookup:\n lstm_nn_model/1st_layer/embedding_lookup/2225242 (defined at Users/65172/.pyenv/versions/3.7.5/lib/python3.7/contextlib.py:112)\n\nFunction call stack:\ntrain_function\n",
     "output_type": "error",
     "traceback": [
      "\u001b[0;31m---------------------------------------------------------------------------\u001b[0m",
      "\u001b[0;31mInvalidArgumentError\u001b[0m                      Traceback (most recent call last)",
      "\u001b[0;32m/var/folders/74/pbg99trj5pzbpzx9hzcgsxrmwksdx5/T/ipykernel_92018/475672019.py\u001b[0m in \u001b[0;36m<module>\u001b[0;34m\u001b[0m\n\u001b[1;32m      1\u001b[0m \u001b[0;31m# fit the keras model on the dataset\u001b[0m\u001b[0;34m\u001b[0m\u001b[0;34m\u001b[0m\u001b[0;34m\u001b[0m\u001b[0m\n\u001b[1;32m      2\u001b[0m \u001b[0;31m# X_train = np.asarray(X_train).astype(np.int)\u001b[0m\u001b[0;34m\u001b[0m\u001b[0;34m\u001b[0m\u001b[0;34m\u001b[0m\u001b[0m\n\u001b[0;32m----> 3\u001b[0;31m \u001b[0mhistory_new\u001b[0m \u001b[0;34m=\u001b[0m \u001b[0mlstm_model\u001b[0m\u001b[0;34m.\u001b[0m\u001b[0mfit\u001b[0m\u001b[0;34m(\u001b[0m\u001b[0mX_train\u001b[0m\u001b[0;34m,\u001b[0m \u001b[0my_train\u001b[0m\u001b[0;34m,\u001b[0m \u001b[0mepochs\u001b[0m\u001b[0;34m=\u001b[0m\u001b[0;36m5\u001b[0m\u001b[0;34m,\u001b[0m \u001b[0mverbose\u001b[0m\u001b[0;34m=\u001b[0m\u001b[0;36m1\u001b[0m\u001b[0;34m,\u001b[0m \u001b[0mvalidation_split\u001b[0m\u001b[0;34m=\u001b[0m\u001b[0;36m0.33\u001b[0m\u001b[0;34m)\u001b[0m\u001b[0;34m\u001b[0m\u001b[0;34m\u001b[0m\u001b[0m\n\u001b[0m",
      "\u001b[0;32m~/.pyenv/versions/3.7.5/lib/python3.7/site-packages/tensorflow/python/keras/engine/training.py\u001b[0m in \u001b[0;36mfit\u001b[0;34m(self, x, y, batch_size, epochs, verbose, callbacks, validation_split, validation_data, shuffle, class_weight, sample_weight, initial_epoch, steps_per_epoch, validation_steps, validation_batch_size, validation_freq, max_queue_size, workers, use_multiprocessing)\u001b[0m\n\u001b[1;32m   1181\u001b[0m                 _r=1):\n\u001b[1;32m   1182\u001b[0m               \u001b[0mcallbacks\u001b[0m\u001b[0;34m.\u001b[0m\u001b[0mon_train_batch_begin\u001b[0m\u001b[0;34m(\u001b[0m\u001b[0mstep\u001b[0m\u001b[0;34m)\u001b[0m\u001b[0;34m\u001b[0m\u001b[0;34m\u001b[0m\u001b[0m\n\u001b[0;32m-> 1183\u001b[0;31m               \u001b[0mtmp_logs\u001b[0m \u001b[0;34m=\u001b[0m \u001b[0mself\u001b[0m\u001b[0;34m.\u001b[0m\u001b[0mtrain_function\u001b[0m\u001b[0;34m(\u001b[0m\u001b[0miterator\u001b[0m\u001b[0;34m)\u001b[0m\u001b[0;34m\u001b[0m\u001b[0;34m\u001b[0m\u001b[0m\n\u001b[0m\u001b[1;32m   1184\u001b[0m               \u001b[0;32mif\u001b[0m \u001b[0mdata_handler\u001b[0m\u001b[0;34m.\u001b[0m\u001b[0mshould_sync\u001b[0m\u001b[0;34m:\u001b[0m\u001b[0;34m\u001b[0m\u001b[0;34m\u001b[0m\u001b[0m\n\u001b[1;32m   1185\u001b[0m                 \u001b[0mcontext\u001b[0m\u001b[0;34m.\u001b[0m\u001b[0masync_wait\u001b[0m\u001b[0;34m(\u001b[0m\u001b[0;34m)\u001b[0m\u001b[0;34m\u001b[0m\u001b[0;34m\u001b[0m\u001b[0m\n",
      "\u001b[0;32m~/.pyenv/versions/3.7.5/lib/python3.7/site-packages/tensorflow/python/eager/def_function.py\u001b[0m in \u001b[0;36m__call__\u001b[0;34m(self, *args, **kwds)\u001b[0m\n\u001b[1;32m    887\u001b[0m \u001b[0;34m\u001b[0m\u001b[0m\n\u001b[1;32m    888\u001b[0m       \u001b[0;32mwith\u001b[0m \u001b[0mOptionalXlaContext\u001b[0m\u001b[0;34m(\u001b[0m\u001b[0mself\u001b[0m\u001b[0;34m.\u001b[0m\u001b[0m_jit_compile\u001b[0m\u001b[0;34m)\u001b[0m\u001b[0;34m:\u001b[0m\u001b[0;34m\u001b[0m\u001b[0;34m\u001b[0m\u001b[0m\n\u001b[0;32m--> 889\u001b[0;31m         \u001b[0mresult\u001b[0m \u001b[0;34m=\u001b[0m \u001b[0mself\u001b[0m\u001b[0;34m.\u001b[0m\u001b[0m_call\u001b[0m\u001b[0;34m(\u001b[0m\u001b[0;34m*\u001b[0m\u001b[0margs\u001b[0m\u001b[0;34m,\u001b[0m \u001b[0;34m**\u001b[0m\u001b[0mkwds\u001b[0m\u001b[0;34m)\u001b[0m\u001b[0;34m\u001b[0m\u001b[0;34m\u001b[0m\u001b[0m\n\u001b[0m\u001b[1;32m    890\u001b[0m \u001b[0;34m\u001b[0m\u001b[0m\n\u001b[1;32m    891\u001b[0m       \u001b[0mnew_tracing_count\u001b[0m \u001b[0;34m=\u001b[0m \u001b[0mself\u001b[0m\u001b[0;34m.\u001b[0m\u001b[0mexperimental_get_tracing_count\u001b[0m\u001b[0;34m(\u001b[0m\u001b[0;34m)\u001b[0m\u001b[0;34m\u001b[0m\u001b[0;34m\u001b[0m\u001b[0m\n",
      "\u001b[0;32m~/.pyenv/versions/3.7.5/lib/python3.7/site-packages/tensorflow/python/eager/def_function.py\u001b[0m in \u001b[0;36m_call\u001b[0;34m(self, *args, **kwds)\u001b[0m\n\u001b[1;32m    948\u001b[0m         \u001b[0;31m# Lifting succeeded, so variables are initialized and we can run the\u001b[0m\u001b[0;34m\u001b[0m\u001b[0;34m\u001b[0m\u001b[0;34m\u001b[0m\u001b[0m\n\u001b[1;32m    949\u001b[0m         \u001b[0;31m# stateless function.\u001b[0m\u001b[0;34m\u001b[0m\u001b[0;34m\u001b[0m\u001b[0;34m\u001b[0m\u001b[0m\n\u001b[0;32m--> 950\u001b[0;31m         \u001b[0;32mreturn\u001b[0m \u001b[0mself\u001b[0m\u001b[0;34m.\u001b[0m\u001b[0m_stateless_fn\u001b[0m\u001b[0;34m(\u001b[0m\u001b[0;34m*\u001b[0m\u001b[0margs\u001b[0m\u001b[0;34m,\u001b[0m \u001b[0;34m**\u001b[0m\u001b[0mkwds\u001b[0m\u001b[0;34m)\u001b[0m\u001b[0;34m\u001b[0m\u001b[0;34m\u001b[0m\u001b[0m\n\u001b[0m\u001b[1;32m    951\u001b[0m     \u001b[0;32melse\u001b[0m\u001b[0;34m:\u001b[0m\u001b[0;34m\u001b[0m\u001b[0;34m\u001b[0m\u001b[0m\n\u001b[1;32m    952\u001b[0m       \u001b[0m_\u001b[0m\u001b[0;34m,\u001b[0m \u001b[0m_\u001b[0m\u001b[0;34m,\u001b[0m \u001b[0m_\u001b[0m\u001b[0;34m,\u001b[0m \u001b[0mfiltered_flat_args\u001b[0m \u001b[0;34m=\u001b[0m\u001b[0;31m \u001b[0m\u001b[0;31m\\\u001b[0m\u001b[0;34m\u001b[0m\u001b[0;34m\u001b[0m\u001b[0m\n",
      "\u001b[0;32m~/.pyenv/versions/3.7.5/lib/python3.7/site-packages/tensorflow/python/eager/function.py\u001b[0m in \u001b[0;36m__call__\u001b[0;34m(self, *args, **kwargs)\u001b[0m\n\u001b[1;32m   3022\u001b[0m        filtered_flat_args) = self._maybe_define_function(args, kwargs)\n\u001b[1;32m   3023\u001b[0m     return graph_function._call_flat(\n\u001b[0;32m-> 3024\u001b[0;31m         filtered_flat_args, captured_inputs=graph_function.captured_inputs)  # pylint: disable=protected-access\n\u001b[0m\u001b[1;32m   3025\u001b[0m \u001b[0;34m\u001b[0m\u001b[0m\n\u001b[1;32m   3026\u001b[0m   \u001b[0;34m@\u001b[0m\u001b[0mproperty\u001b[0m\u001b[0;34m\u001b[0m\u001b[0;34m\u001b[0m\u001b[0m\n",
      "\u001b[0;32m~/.pyenv/versions/3.7.5/lib/python3.7/site-packages/tensorflow/python/eager/function.py\u001b[0m in \u001b[0;36m_call_flat\u001b[0;34m(self, args, captured_inputs, cancellation_manager)\u001b[0m\n\u001b[1;32m   1959\u001b[0m       \u001b[0;31m# No tape is watching; skip to running the function.\u001b[0m\u001b[0;34m\u001b[0m\u001b[0;34m\u001b[0m\u001b[0;34m\u001b[0m\u001b[0m\n\u001b[1;32m   1960\u001b[0m       return self._build_call_outputs(self._inference_function.call(\n\u001b[0;32m-> 1961\u001b[0;31m           ctx, args, cancellation_manager=cancellation_manager))\n\u001b[0m\u001b[1;32m   1962\u001b[0m     forward_backward = self._select_forward_and_backward_functions(\n\u001b[1;32m   1963\u001b[0m         \u001b[0margs\u001b[0m\u001b[0;34m,\u001b[0m\u001b[0;34m\u001b[0m\u001b[0;34m\u001b[0m\u001b[0m\n",
      "\u001b[0;32m~/.pyenv/versions/3.7.5/lib/python3.7/site-packages/tensorflow/python/eager/function.py\u001b[0m in \u001b[0;36mcall\u001b[0;34m(self, ctx, args, cancellation_manager)\u001b[0m\n\u001b[1;32m    594\u001b[0m               \u001b[0minputs\u001b[0m\u001b[0;34m=\u001b[0m\u001b[0margs\u001b[0m\u001b[0;34m,\u001b[0m\u001b[0;34m\u001b[0m\u001b[0;34m\u001b[0m\u001b[0m\n\u001b[1;32m    595\u001b[0m               \u001b[0mattrs\u001b[0m\u001b[0;34m=\u001b[0m\u001b[0mattrs\u001b[0m\u001b[0;34m,\u001b[0m\u001b[0;34m\u001b[0m\u001b[0;34m\u001b[0m\u001b[0m\n\u001b[0;32m--> 596\u001b[0;31m               ctx=ctx)\n\u001b[0m\u001b[1;32m    597\u001b[0m         \u001b[0;32melse\u001b[0m\u001b[0;34m:\u001b[0m\u001b[0;34m\u001b[0m\u001b[0;34m\u001b[0m\u001b[0m\n\u001b[1;32m    598\u001b[0m           outputs = execute.execute_with_cancellation(\n",
      "\u001b[0;32m~/.pyenv/versions/3.7.5/lib/python3.7/site-packages/tensorflow/python/eager/execute.py\u001b[0m in \u001b[0;36mquick_execute\u001b[0;34m(op_name, num_outputs, inputs, attrs, ctx, name)\u001b[0m\n\u001b[1;32m     58\u001b[0m     \u001b[0mctx\u001b[0m\u001b[0;34m.\u001b[0m\u001b[0mensure_initialized\u001b[0m\u001b[0;34m(\u001b[0m\u001b[0;34m)\u001b[0m\u001b[0;34m\u001b[0m\u001b[0;34m\u001b[0m\u001b[0m\n\u001b[1;32m     59\u001b[0m     tensors = pywrap_tfe.TFE_Py_Execute(ctx._handle, device_name, op_name,\n\u001b[0;32m---> 60\u001b[0;31m                                         inputs, attrs, num_outputs)\n\u001b[0m\u001b[1;32m     61\u001b[0m   \u001b[0;32mexcept\u001b[0m \u001b[0mcore\u001b[0m\u001b[0;34m.\u001b[0m\u001b[0m_NotOkStatusException\u001b[0m \u001b[0;32mas\u001b[0m \u001b[0me\u001b[0m\u001b[0;34m:\u001b[0m\u001b[0;34m\u001b[0m\u001b[0;34m\u001b[0m\u001b[0m\n\u001b[1;32m     62\u001b[0m     \u001b[0;32mif\u001b[0m \u001b[0mname\u001b[0m \u001b[0;32mis\u001b[0m \u001b[0;32mnot\u001b[0m \u001b[0;32mNone\u001b[0m\u001b[0;34m:\u001b[0m\u001b[0;34m\u001b[0m\u001b[0;34m\u001b[0m\u001b[0m\n",
      "\u001b[0;31mInvalidArgumentError\u001b[0m:  indices[0,0] = 9580 is not in [0, 6)\n\t [[node lstm_nn_model/1st_layer/embedding_lookup (defined at var/folders/74/pbg99trj5pzbpzx9hzcgsxrmwksdx5/T/ipykernel_92018/475672019.py:3) ]] [Op:__inference_train_function_2226986]\n\nErrors may have originated from an input operation.\nInput Source operations connected to node lstm_nn_model/1st_layer/embedding_lookup:\n lstm_nn_model/1st_layer/embedding_lookup/2225242 (defined at Users/65172/.pyenv/versions/3.7.5/lib/python3.7/contextlib.py:112)\n\nFunction call stack:\ntrain_function\n"
     ]
    }
   ],
   "source": [
    "# fit the keras model on the dataset\n",
    "# X_train = np.asarray(X_train).astype(np.int)\n",
    "history_new = lstm_model.fit(X_train, y_train, epochs=5, verbose=1, validation_split=0.33)"
   ]
  },
  {
   "cell_type": "code",
   "execution_count": 100,
   "id": "5205cf23",
   "metadata": {},
   "outputs": [
    {
     "ename": "ValueError",
     "evalue": "Data cardinality is ambiguous:\n  x sizes: 91272\n  y sizes: 15212\nMake sure all arrays contain the same number of samples.",
     "output_type": "error",
     "traceback": [
      "\u001b[0;31m---------------------------------------------------------------------------\u001b[0m",
      "\u001b[0;31mValueError\u001b[0m                                Traceback (most recent call last)",
      "\u001b[0;32m/var/folders/74/pbg99trj5pzbpzx9hzcgsxrmwksdx5/T/ipykernel_92018/1705448933.py\u001b[0m in \u001b[0;36m<module>\u001b[0;34m\u001b[0m\n\u001b[1;32m      1\u001b[0m \u001b[0;31m# evaluate the keras model\u001b[0m\u001b[0;34m\u001b[0m\u001b[0;34m\u001b[0m\u001b[0;34m\u001b[0m\u001b[0m\n\u001b[0;32m----> 2\u001b[0;31m \u001b[0m_\u001b[0m\u001b[0;34m,\u001b[0m \u001b[0maccuracy\u001b[0m \u001b[0;34m=\u001b[0m \u001b[0mmodel\u001b[0m\u001b[0;34m.\u001b[0m\u001b[0mevaluate\u001b[0m\u001b[0;34m(\u001b[0m\u001b[0mX_train\u001b[0m\u001b[0;34m,\u001b[0m \u001b[0my_train\u001b[0m\u001b[0;34m)\u001b[0m \u001b[0;31m# _ return 2 var.\u001b[0m\u001b[0;34m\u001b[0m\u001b[0;34m\u001b[0m\u001b[0m\n\u001b[0m\u001b[1;32m      3\u001b[0m \u001b[0mprint\u001b[0m\u001b[0;34m(\u001b[0m\u001b[0;34m'Accuracy: %.2f'\u001b[0m \u001b[0;34m%\u001b[0m \u001b[0;34m(\u001b[0m\u001b[0maccuracy\u001b[0m\u001b[0;34m*\u001b[0m\u001b[0;36m100\u001b[0m\u001b[0;34m)\u001b[0m\u001b[0;34m)\u001b[0m\u001b[0;34m\u001b[0m\u001b[0;34m\u001b[0m\u001b[0m\n",
      "\u001b[0;32m~/.pyenv/versions/3.7.5/lib/python3.7/site-packages/tensorflow/python/keras/engine/training.py\u001b[0m in \u001b[0;36mevaluate\u001b[0;34m(self, x, y, batch_size, verbose, sample_weight, steps, callbacks, max_queue_size, workers, use_multiprocessing, return_dict, **kwargs)\u001b[0m\n\u001b[1;32m   1464\u001b[0m             \u001b[0muse_multiprocessing\u001b[0m\u001b[0;34m=\u001b[0m\u001b[0muse_multiprocessing\u001b[0m\u001b[0;34m,\u001b[0m\u001b[0;34m\u001b[0m\u001b[0;34m\u001b[0m\u001b[0m\n\u001b[1;32m   1465\u001b[0m             \u001b[0mmodel\u001b[0m\u001b[0;34m=\u001b[0m\u001b[0mself\u001b[0m\u001b[0;34m,\u001b[0m\u001b[0;34m\u001b[0m\u001b[0;34m\u001b[0m\u001b[0m\n\u001b[0;32m-> 1466\u001b[0;31m             steps_per_execution=self._steps_per_execution)\n\u001b[0m\u001b[1;32m   1467\u001b[0m \u001b[0;34m\u001b[0m\u001b[0m\n\u001b[1;32m   1468\u001b[0m       \u001b[0;31m# Container that configures and calls `tf.keras.Callback`s.\u001b[0m\u001b[0;34m\u001b[0m\u001b[0;34m\u001b[0m\u001b[0;34m\u001b[0m\u001b[0m\n",
      "\u001b[0;32m~/.pyenv/versions/3.7.5/lib/python3.7/site-packages/tensorflow/python/keras/engine/data_adapter.py\u001b[0m in \u001b[0;36mget_data_handler\u001b[0;34m(*args, **kwargs)\u001b[0m\n\u001b[1;32m   1362\u001b[0m   \u001b[0;32mif\u001b[0m \u001b[0mgetattr\u001b[0m\u001b[0;34m(\u001b[0m\u001b[0mkwargs\u001b[0m\u001b[0;34m[\u001b[0m\u001b[0;34m\"model\"\u001b[0m\u001b[0;34m]\u001b[0m\u001b[0;34m,\u001b[0m \u001b[0;34m\"_cluster_coordinator\"\u001b[0m\u001b[0;34m,\u001b[0m \u001b[0;32mNone\u001b[0m\u001b[0;34m)\u001b[0m\u001b[0;34m:\u001b[0m\u001b[0;34m\u001b[0m\u001b[0;34m\u001b[0m\u001b[0m\n\u001b[1;32m   1363\u001b[0m     \u001b[0;32mreturn\u001b[0m \u001b[0m_ClusterCoordinatorDataHandler\u001b[0m\u001b[0;34m(\u001b[0m\u001b[0;34m*\u001b[0m\u001b[0margs\u001b[0m\u001b[0;34m,\u001b[0m \u001b[0;34m**\u001b[0m\u001b[0mkwargs\u001b[0m\u001b[0;34m)\u001b[0m\u001b[0;34m\u001b[0m\u001b[0;34m\u001b[0m\u001b[0m\n\u001b[0;32m-> 1364\u001b[0;31m   \u001b[0;32mreturn\u001b[0m \u001b[0mDataHandler\u001b[0m\u001b[0;34m(\u001b[0m\u001b[0;34m*\u001b[0m\u001b[0margs\u001b[0m\u001b[0;34m,\u001b[0m \u001b[0;34m**\u001b[0m\u001b[0mkwargs\u001b[0m\u001b[0;34m)\u001b[0m\u001b[0;34m\u001b[0m\u001b[0;34m\u001b[0m\u001b[0m\n\u001b[0m\u001b[1;32m   1365\u001b[0m \u001b[0;34m\u001b[0m\u001b[0m\n\u001b[1;32m   1366\u001b[0m \u001b[0;34m\u001b[0m\u001b[0m\n",
      "\u001b[0;32m~/.pyenv/versions/3.7.5/lib/python3.7/site-packages/tensorflow/python/keras/engine/data_adapter.py\u001b[0m in \u001b[0;36m__init__\u001b[0;34m(self, x, y, sample_weight, batch_size, steps_per_epoch, initial_epoch, epochs, shuffle, class_weight, max_queue_size, workers, use_multiprocessing, model, steps_per_execution, distribute)\u001b[0m\n\u001b[1;32m   1164\u001b[0m         \u001b[0muse_multiprocessing\u001b[0m\u001b[0;34m=\u001b[0m\u001b[0muse_multiprocessing\u001b[0m\u001b[0;34m,\u001b[0m\u001b[0;34m\u001b[0m\u001b[0;34m\u001b[0m\u001b[0m\n\u001b[1;32m   1165\u001b[0m         \u001b[0mdistribution_strategy\u001b[0m\u001b[0;34m=\u001b[0m\u001b[0mds_context\u001b[0m\u001b[0;34m.\u001b[0m\u001b[0mget_strategy\u001b[0m\u001b[0;34m(\u001b[0m\u001b[0;34m)\u001b[0m\u001b[0;34m,\u001b[0m\u001b[0;34m\u001b[0m\u001b[0;34m\u001b[0m\u001b[0m\n\u001b[0;32m-> 1166\u001b[0;31m         model=model)\n\u001b[0m\u001b[1;32m   1167\u001b[0m \u001b[0;34m\u001b[0m\u001b[0m\n\u001b[1;32m   1168\u001b[0m     \u001b[0mstrategy\u001b[0m \u001b[0;34m=\u001b[0m \u001b[0mds_context\u001b[0m\u001b[0;34m.\u001b[0m\u001b[0mget_strategy\u001b[0m\u001b[0;34m(\u001b[0m\u001b[0;34m)\u001b[0m\u001b[0;34m\u001b[0m\u001b[0;34m\u001b[0m\u001b[0m\n",
      "\u001b[0;32m~/.pyenv/versions/3.7.5/lib/python3.7/site-packages/tensorflow/python/keras/engine/data_adapter.py\u001b[0m in \u001b[0;36m__init__\u001b[0;34m(self, x, y, sample_weights, sample_weight_modes, batch_size, epochs, steps, shuffle, **kwargs)\u001b[0m\n\u001b[1;32m    256\u001b[0m \u001b[0;34m\u001b[0m\u001b[0m\n\u001b[1;32m    257\u001b[0m     \u001b[0mnum_samples\u001b[0m \u001b[0;34m=\u001b[0m \u001b[0mset\u001b[0m\u001b[0;34m(\u001b[0m\u001b[0mint\u001b[0m\u001b[0;34m(\u001b[0m\u001b[0mi\u001b[0m\u001b[0;34m.\u001b[0m\u001b[0mshape\u001b[0m\u001b[0;34m[\u001b[0m\u001b[0;36m0\u001b[0m\u001b[0;34m]\u001b[0m\u001b[0;34m)\u001b[0m \u001b[0;32mfor\u001b[0m \u001b[0mi\u001b[0m \u001b[0;32min\u001b[0m \u001b[0mnest\u001b[0m\u001b[0;34m.\u001b[0m\u001b[0mflatten\u001b[0m\u001b[0;34m(\u001b[0m\u001b[0minputs\u001b[0m\u001b[0;34m)\u001b[0m\u001b[0;34m)\u001b[0m\u001b[0;34m.\u001b[0m\u001b[0mpop\u001b[0m\u001b[0;34m(\u001b[0m\u001b[0;34m)\u001b[0m\u001b[0;34m\u001b[0m\u001b[0;34m\u001b[0m\u001b[0m\n\u001b[0;32m--> 258\u001b[0;31m     \u001b[0m_check_data_cardinality\u001b[0m\u001b[0;34m(\u001b[0m\u001b[0minputs\u001b[0m\u001b[0;34m)\u001b[0m\u001b[0;34m\u001b[0m\u001b[0;34m\u001b[0m\u001b[0m\n\u001b[0m\u001b[1;32m    259\u001b[0m \u001b[0;34m\u001b[0m\u001b[0m\n\u001b[1;32m    260\u001b[0m     \u001b[0;31m# If batch_size is not passed but steps is, calculate from the input data.\u001b[0m\u001b[0;34m\u001b[0m\u001b[0;34m\u001b[0m\u001b[0;34m\u001b[0m\u001b[0m\n",
      "\u001b[0;32m~/.pyenv/versions/3.7.5/lib/python3.7/site-packages/tensorflow/python/keras/engine/data_adapter.py\u001b[0m in \u001b[0;36m_check_data_cardinality\u001b[0;34m(data)\u001b[0m\n\u001b[1;32m   1628\u001b[0m           label, \", \".join(str(i.shape[0]) for i in nest.flatten(single_data)))\n\u001b[1;32m   1629\u001b[0m     \u001b[0mmsg\u001b[0m \u001b[0;34m+=\u001b[0m \u001b[0;34m\"Make sure all arrays contain the same number of samples.\"\u001b[0m\u001b[0;34m\u001b[0m\u001b[0;34m\u001b[0m\u001b[0m\n\u001b[0;32m-> 1630\u001b[0;31m     \u001b[0;32mraise\u001b[0m \u001b[0mValueError\u001b[0m\u001b[0;34m(\u001b[0m\u001b[0mmsg\u001b[0m\u001b[0;34m)\u001b[0m\u001b[0;34m\u001b[0m\u001b[0;34m\u001b[0m\u001b[0m\n\u001b[0m\u001b[1;32m   1631\u001b[0m \u001b[0;34m\u001b[0m\u001b[0m\n\u001b[1;32m   1632\u001b[0m \u001b[0;34m\u001b[0m\u001b[0m\n",
      "\u001b[0;31mValueError\u001b[0m: Data cardinality is ambiguous:\n  x sizes: 91272\n  y sizes: 15212\nMake sure all arrays contain the same number of samples."
     ]
    }
   ],
   "source": [
    "# evaluate the keras model\n",
    "_, accuracy = model.evaluate(X_train, y_train) # _ return 2 var.\n",
    "print('Accuracy: %.2f' % (accuracy*100))"
   ]
  },
  {
   "cell_type": "code",
   "execution_count": 62,
   "id": "174ea7cc",
   "metadata": {},
   "outputs": [
    {
     "name": "stdout",
     "output_type": "stream",
     "text": [
      "[5099, 6155, 1514] => 0 (expected 0)\n",
      "[6187, 5747, 2185] => 0 (expected 0)\n",
      "[2148, 2946, 5165] => 1 (expected 1)\n",
      "[6098, 653, 5991] => 0 (expected 0)\n",
      "[534, 4788, 2733] => 1 (expected 1)\n"
     ]
    }
   ],
   "source": [
    "# make class predictions with the model\n",
    "predictions = model.predict_classes(X)\n",
    "\n",
    "# summarize the first 5 cases\n",
    "for i in range(5):\n",
    "\tprint('%s => %d (expected %d)' % (X[i].tolist(), predictions[i], y[i]))"
   ]
  },
  {
   "cell_type": "code",
   "execution_count": 63,
   "id": "196d5fe7",
   "metadata": {},
   "outputs": [
    {
     "name": "stdout",
     "output_type": "stream",
     "text": [
      "dict_keys(['loss', 'accuracy', 'val_loss', 'val_accuracy'])\n"
     ]
    },
    {
     "data": {
      "image/png": "[encoded data removed]",
      "text/plain": [
       "<Figure size 576x504 with 1 Axes>"
      ]
     },
     "metadata": {},
     "output_type": "display_data"
    }
   ],
   "source": [
    "# list all data in history\n",
    "print(history.history.keys())\n",
    "# summarize history for accuracy\n",
    "plt.plot(history.history['accuracy'])\n",
    "plt.plot(history.history['val_accuracy'])\n",
    "plt.title('model accuracy')\n",
    "plt.ylabel('accuracy')\n",
    "plt.xlabel('epoch')\n",
    "plt.legend(['train', 'test'], loc='upper left')\n",
    "plt.show()"
   ]
  },
  {
   "cell_type": "code",
   "execution_count": null,
   "id": "79f73175",
   "metadata": {},
   "outputs": [],
   "source": []
  }
 ],
 "metadata": {
  "kernelspec": {
   "display_name": "Python 3 (ipykernel)",
   "language": "python",
   "name": "python3"
  },
  "language_info": {
   "codemirror_mode": {
    "name": "ipython",
    "version": 3
   },
   "file_extension": ".py",
   "mimetype": "text/x-python",
   "name": "python",
   "nbconvert_exporter": "python",
   "pygments_lexer": "ipython3",
   "version": "3.7.5"
  }
 },
 "nbformat": 4,
 "nbformat_minor": 5
}
